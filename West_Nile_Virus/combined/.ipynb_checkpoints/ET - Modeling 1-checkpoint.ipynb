{
 "cells": [
  {
   "cell_type": "code",
   "execution_count": 92,
   "id": "25904cb6",
   "metadata": {
    "scrolled": true
   },
   "outputs": [],
   "source": [
    "import pandas as pd\n",
    "import numpy as np\n",
    "import matplotlib.pyplot as plt\n",
    "import seaborn as sns\n",
    "from sklearn import metrics\n",
    "from sklearn.model_selection import (train_test_split, GridSearchCV, cross_val_score)\n",
    "from sklearn.linear_model import LinearRegression, LogisticRegressionCV, LogisticRegression\n",
    "from sklearn.neighbors import KNeighborsClassifier\n",
    "from sklearn.decomposition import PCA\n",
    "from sklearn.cluster import DBSCAN\n",
    "from sklearn.preprocessing import StandardScaler\n",
    "from sklearn.metrics import confusion_matrix, plot_confusion_matrix, accuracy_score\n",
    "from sklearn.decomposition import PCA\n",
    "from sklearn.ensemble import AdaBoostClassifier, BaggingClassifier, RandomForestClassifier\n",
    "from sklearn.tree import DecisionTreeClassifier\n",
    "import time\n",
    "import xgboost as xgb\n",
    "from imblearn.over_sampling import SMOTE\n",
    "from imblearn.pipeline import Pipeline, make_pipeline\n",
    "\n"
   ]
  },
  {
   "cell_type": "markdown",
   "id": "b29c2122",
   "metadata": {},
   "source": [
    "# LOADING STUFF"
   ]
  },
  {
   "cell_type": "code",
   "execution_count": 2,
   "id": "0653177f",
   "metadata": {},
   "outputs": [],
   "source": [
    "train = pd.read_csv('data/train_set.csv')\n",
    "test = pd.read_csv('data/test_set.csv')"
   ]
  },
  {
   "cell_type": "code",
   "execution_count": 3,
   "id": "a7f3c6e2",
   "metadata": {},
   "outputs": [],
   "source": [
    "train['date'] = pd.to_datetime(train['date'])\n",
    "test['date'] = pd.to_datetime(test['date'])\n",
    "test.drop(columns='id', inplace=True)"
   ]
  },
  {
   "cell_type": "code",
   "execution_count": 4,
   "id": "1b0504c4",
   "metadata": {},
   "outputs": [
    {
     "data": {
      "text/html": [
       "<div>\n",
       "<style scoped>\n",
       "    .dataframe tbody tr th:only-of-type {\n",
       "        vertical-align: middle;\n",
       "    }\n",
       "\n",
       "    .dataframe tbody tr th {\n",
       "        vertical-align: top;\n",
       "    }\n",
       "\n",
       "    .dataframe thead th {\n",
       "        text-align: right;\n",
       "    }\n",
       "</style>\n",
       "<table border=\"1\" class=\"dataframe\">\n",
       "  <thead>\n",
       "    <tr style=\"text-align: right;\">\n",
       "      <th></th>\n",
       "      <th>date</th>\n",
       "      <th>latitude</th>\n",
       "      <th>longitude</th>\n",
       "      <th>addressaccuracy</th>\n",
       "      <th>nummosquitos</th>\n",
       "      <th>wnvpresent</th>\n",
       "      <th>species_nr</th>\n",
       "      <th>trap_rank</th>\n",
       "      <th>tmax</th>\n",
       "      <th>tmin</th>\n",
       "      <th>...</th>\n",
       "      <th>stnpressure</th>\n",
       "      <th>sealevel</th>\n",
       "      <th>resultspeed</th>\n",
       "      <th>resultdir</th>\n",
       "      <th>avgspeed</th>\n",
       "      <th>temp_diff</th>\n",
       "      <th>week</th>\n",
       "      <th>year</th>\n",
       "      <th>FG</th>\n",
       "      <th>TS</th>\n",
       "    </tr>\n",
       "  </thead>\n",
       "  <tbody>\n",
       "    <tr>\n",
       "      <th>0</th>\n",
       "      <td>2007-05-29</td>\n",
       "      <td>41.731922</td>\n",
       "      <td>-87.677512</td>\n",
       "      <td>8</td>\n",
       "      <td>1</td>\n",
       "      <td>0</td>\n",
       "      <td>3.0</td>\n",
       "      <td>0</td>\n",
       "      <td>88.0</td>\n",
       "      <td>62.5</td>\n",
       "      <td>...</td>\n",
       "      <td>29.415</td>\n",
       "      <td>30.10</td>\n",
       "      <td>5.80</td>\n",
       "      <td>17.0</td>\n",
       "      <td>6.95</td>\n",
       "      <td>10.25</td>\n",
       "      <td>22.0</td>\n",
       "      <td>2007.0</td>\n",
       "      <td>0.0</td>\n",
       "      <td>0.0</td>\n",
       "    </tr>\n",
       "    <tr>\n",
       "      <th>1</th>\n",
       "      <td>2007-05-29</td>\n",
       "      <td>41.688324</td>\n",
       "      <td>-87.676709</td>\n",
       "      <td>8</td>\n",
       "      <td>1</td>\n",
       "      <td>0</td>\n",
       "      <td>2.0</td>\n",
       "      <td>0</td>\n",
       "      <td>88.0</td>\n",
       "      <td>62.5</td>\n",
       "      <td>...</td>\n",
       "      <td>29.415</td>\n",
       "      <td>30.10</td>\n",
       "      <td>5.80</td>\n",
       "      <td>17.0</td>\n",
       "      <td>6.95</td>\n",
       "      <td>10.25</td>\n",
       "      <td>22.0</td>\n",
       "      <td>2007.0</td>\n",
       "      <td>0.0</td>\n",
       "      <td>0.0</td>\n",
       "    </tr>\n",
       "    <tr>\n",
       "      <th>2</th>\n",
       "      <td>2007-05-29</td>\n",
       "      <td>41.867108</td>\n",
       "      <td>-87.654224</td>\n",
       "      <td>8</td>\n",
       "      <td>1</td>\n",
       "      <td>0</td>\n",
       "      <td>2.0</td>\n",
       "      <td>0</td>\n",
       "      <td>88.0</td>\n",
       "      <td>62.5</td>\n",
       "      <td>...</td>\n",
       "      <td>29.415</td>\n",
       "      <td>30.10</td>\n",
       "      <td>5.80</td>\n",
       "      <td>17.0</td>\n",
       "      <td>6.95</td>\n",
       "      <td>10.25</td>\n",
       "      <td>22.0</td>\n",
       "      <td>2007.0</td>\n",
       "      <td>0.0</td>\n",
       "      <td>0.0</td>\n",
       "    </tr>\n",
       "    <tr>\n",
       "      <th>3</th>\n",
       "      <td>2007-05-29</td>\n",
       "      <td>41.891126</td>\n",
       "      <td>-87.611560</td>\n",
       "      <td>5</td>\n",
       "      <td>1</td>\n",
       "      <td>0</td>\n",
       "      <td>2.0</td>\n",
       "      <td>0</td>\n",
       "      <td>88.0</td>\n",
       "      <td>62.5</td>\n",
       "      <td>...</td>\n",
       "      <td>29.415</td>\n",
       "      <td>30.10</td>\n",
       "      <td>5.80</td>\n",
       "      <td>17.0</td>\n",
       "      <td>6.95</td>\n",
       "      <td>10.25</td>\n",
       "      <td>22.0</td>\n",
       "      <td>2007.0</td>\n",
       "      <td>0.0</td>\n",
       "      <td>0.0</td>\n",
       "    </tr>\n",
       "    <tr>\n",
       "      <th>4</th>\n",
       "      <td>2007-05-29</td>\n",
       "      <td>41.919343</td>\n",
       "      <td>-87.694259</td>\n",
       "      <td>8</td>\n",
       "      <td>1</td>\n",
       "      <td>0</td>\n",
       "      <td>2.0</td>\n",
       "      <td>0</td>\n",
       "      <td>88.0</td>\n",
       "      <td>62.5</td>\n",
       "      <td>...</td>\n",
       "      <td>29.415</td>\n",
       "      <td>30.10</td>\n",
       "      <td>5.80</td>\n",
       "      <td>17.0</td>\n",
       "      <td>6.95</td>\n",
       "      <td>10.25</td>\n",
       "      <td>22.0</td>\n",
       "      <td>2007.0</td>\n",
       "      <td>0.0</td>\n",
       "      <td>0.0</td>\n",
       "    </tr>\n",
       "    <tr>\n",
       "      <th>...</th>\n",
       "      <td>...</td>\n",
       "      <td>...</td>\n",
       "      <td>...</td>\n",
       "      <td>...</td>\n",
       "      <td>...</td>\n",
       "      <td>...</td>\n",
       "      <td>...</td>\n",
       "      <td>...</td>\n",
       "      <td>...</td>\n",
       "      <td>...</td>\n",
       "      <td>...</td>\n",
       "      <td>...</td>\n",
       "      <td>...</td>\n",
       "      <td>...</td>\n",
       "      <td>...</td>\n",
       "      <td>...</td>\n",
       "      <td>...</td>\n",
       "      <td>...</td>\n",
       "      <td>...</td>\n",
       "      <td>...</td>\n",
       "      <td>...</td>\n",
       "    </tr>\n",
       "    <tr>\n",
       "      <th>8164</th>\n",
       "      <td>2013-09-26</td>\n",
       "      <td>41.750498</td>\n",
       "      <td>-87.605294</td>\n",
       "      <td>5</td>\n",
       "      <td>1</td>\n",
       "      <td>0</td>\n",
       "      <td>1.0</td>\n",
       "      <td>0</td>\n",
       "      <td>75.0</td>\n",
       "      <td>52.5</td>\n",
       "      <td>...</td>\n",
       "      <td>29.370</td>\n",
       "      <td>30.04</td>\n",
       "      <td>3.95</td>\n",
       "      <td>8.5</td>\n",
       "      <td>4.40</td>\n",
       "      <td>-1.25</td>\n",
       "      <td>39.0</td>\n",
       "      <td>2013.0</td>\n",
       "      <td>0.0</td>\n",
       "      <td>0.0</td>\n",
       "    </tr>\n",
       "    <tr>\n",
       "      <th>8165</th>\n",
       "      <td>2013-09-26</td>\n",
       "      <td>41.803423</td>\n",
       "      <td>-87.642984</td>\n",
       "      <td>8</td>\n",
       "      <td>2</td>\n",
       "      <td>0</td>\n",
       "      <td>1.0</td>\n",
       "      <td>0</td>\n",
       "      <td>75.0</td>\n",
       "      <td>52.5</td>\n",
       "      <td>...</td>\n",
       "      <td>29.370</td>\n",
       "      <td>30.04</td>\n",
       "      <td>3.95</td>\n",
       "      <td>8.5</td>\n",
       "      <td>4.40</td>\n",
       "      <td>-1.25</td>\n",
       "      <td>39.0</td>\n",
       "      <td>2013.0</td>\n",
       "      <td>0.0</td>\n",
       "      <td>0.0</td>\n",
       "    </tr>\n",
       "    <tr>\n",
       "      <th>8166</th>\n",
       "      <td>2013-09-26</td>\n",
       "      <td>41.867108</td>\n",
       "      <td>-87.654224</td>\n",
       "      <td>8</td>\n",
       "      <td>7</td>\n",
       "      <td>0</td>\n",
       "      <td>1.0</td>\n",
       "      <td>0</td>\n",
       "      <td>75.0</td>\n",
       "      <td>52.5</td>\n",
       "      <td>...</td>\n",
       "      <td>29.370</td>\n",
       "      <td>30.04</td>\n",
       "      <td>3.95</td>\n",
       "      <td>8.5</td>\n",
       "      <td>4.40</td>\n",
       "      <td>-1.25</td>\n",
       "      <td>39.0</td>\n",
       "      <td>2013.0</td>\n",
       "      <td>0.0</td>\n",
       "      <td>0.0</td>\n",
       "    </tr>\n",
       "    <tr>\n",
       "      <th>8167</th>\n",
       "      <td>2013-09-26</td>\n",
       "      <td>41.963976</td>\n",
       "      <td>-87.691810</td>\n",
       "      <td>9</td>\n",
       "      <td>8</td>\n",
       "      <td>0</td>\n",
       "      <td>1.0</td>\n",
       "      <td>0</td>\n",
       "      <td>75.0</td>\n",
       "      <td>52.5</td>\n",
       "      <td>...</td>\n",
       "      <td>29.370</td>\n",
       "      <td>30.04</td>\n",
       "      <td>3.95</td>\n",
       "      <td>8.5</td>\n",
       "      <td>4.40</td>\n",
       "      <td>-1.25</td>\n",
       "      <td>39.0</td>\n",
       "      <td>2013.0</td>\n",
       "      <td>0.0</td>\n",
       "      <td>0.0</td>\n",
       "    </tr>\n",
       "    <tr>\n",
       "      <th>8168</th>\n",
       "      <td>2013-09-26</td>\n",
       "      <td>41.992478</td>\n",
       "      <td>-87.862995</td>\n",
       "      <td>8</td>\n",
       "      <td>1</td>\n",
       "      <td>0</td>\n",
       "      <td>1.0</td>\n",
       "      <td>0</td>\n",
       "      <td>75.0</td>\n",
       "      <td>52.5</td>\n",
       "      <td>...</td>\n",
       "      <td>29.370</td>\n",
       "      <td>30.04</td>\n",
       "      <td>3.95</td>\n",
       "      <td>8.5</td>\n",
       "      <td>4.40</td>\n",
       "      <td>-1.25</td>\n",
       "      <td>39.0</td>\n",
       "      <td>2013.0</td>\n",
       "      <td>0.0</td>\n",
       "      <td>0.0</td>\n",
       "    </tr>\n",
       "  </tbody>\n",
       "</table>\n",
       "<p>8169 rows × 27 columns</p>\n",
       "</div>"
      ],
      "text/plain": [
       "           date   latitude  longitude  addressaccuracy  nummosquitos  \\\n",
       "0    2007-05-29  41.731922 -87.677512                8             1   \n",
       "1    2007-05-29  41.688324 -87.676709                8             1   \n",
       "2    2007-05-29  41.867108 -87.654224                8             1   \n",
       "3    2007-05-29  41.891126 -87.611560                5             1   \n",
       "4    2007-05-29  41.919343 -87.694259                8             1   \n",
       "...         ...        ...        ...              ...           ...   \n",
       "8164 2013-09-26  41.750498 -87.605294                5             1   \n",
       "8165 2013-09-26  41.803423 -87.642984                8             2   \n",
       "8166 2013-09-26  41.867108 -87.654224                8             7   \n",
       "8167 2013-09-26  41.963976 -87.691810                9             8   \n",
       "8168 2013-09-26  41.992478 -87.862995                8             1   \n",
       "\n",
       "      wnvpresent  species_nr  trap_rank  tmax  tmin  ...  stnpressure  \\\n",
       "0              0         3.0          0  88.0  62.5  ...       29.415   \n",
       "1              0         2.0          0  88.0  62.5  ...       29.415   \n",
       "2              0         2.0          0  88.0  62.5  ...       29.415   \n",
       "3              0         2.0          0  88.0  62.5  ...       29.415   \n",
       "4              0         2.0          0  88.0  62.5  ...       29.415   \n",
       "...          ...         ...        ...   ...   ...  ...          ...   \n",
       "8164           0         1.0          0  75.0  52.5  ...       29.370   \n",
       "8165           0         1.0          0  75.0  52.5  ...       29.370   \n",
       "8166           0         1.0          0  75.0  52.5  ...       29.370   \n",
       "8167           0         1.0          0  75.0  52.5  ...       29.370   \n",
       "8168           0         1.0          0  75.0  52.5  ...       29.370   \n",
       "\n",
       "      sealevel  resultspeed  resultdir  avgspeed  temp_diff  week    year  \\\n",
       "0        30.10         5.80       17.0      6.95      10.25  22.0  2007.0   \n",
       "1        30.10         5.80       17.0      6.95      10.25  22.0  2007.0   \n",
       "2        30.10         5.80       17.0      6.95      10.25  22.0  2007.0   \n",
       "3        30.10         5.80       17.0      6.95      10.25  22.0  2007.0   \n",
       "4        30.10         5.80       17.0      6.95      10.25  22.0  2007.0   \n",
       "...        ...          ...        ...       ...        ...   ...     ...   \n",
       "8164     30.04         3.95        8.5      4.40      -1.25  39.0  2013.0   \n",
       "8165     30.04         3.95        8.5      4.40      -1.25  39.0  2013.0   \n",
       "8166     30.04         3.95        8.5      4.40      -1.25  39.0  2013.0   \n",
       "8167     30.04         3.95        8.5      4.40      -1.25  39.0  2013.0   \n",
       "8168     30.04         3.95        8.5      4.40      -1.25  39.0  2013.0   \n",
       "\n",
       "       FG   TS  \n",
       "0     0.0  0.0  \n",
       "1     0.0  0.0  \n",
       "2     0.0  0.0  \n",
       "3     0.0  0.0  \n",
       "4     0.0  0.0  \n",
       "...   ...  ...  \n",
       "8164  0.0  0.0  \n",
       "8165  0.0  0.0  \n",
       "8166  0.0  0.0  \n",
       "8167  0.0  0.0  \n",
       "8168  0.0  0.0  \n",
       "\n",
       "[8169 rows x 27 columns]"
      ]
     },
     "execution_count": 4,
     "metadata": {},
     "output_type": "execute_result"
    }
   ],
   "source": [
    "# preview\n",
    "train"
   ]
  },
  {
   "cell_type": "code",
   "execution_count": 5,
   "id": "c0570e4e",
   "metadata": {},
   "outputs": [
    {
     "data": {
      "text/html": [
       "<div>\n",
       "<style scoped>\n",
       "    .dataframe tbody tr th:only-of-type {\n",
       "        vertical-align: middle;\n",
       "    }\n",
       "\n",
       "    .dataframe tbody tr th {\n",
       "        vertical-align: top;\n",
       "    }\n",
       "\n",
       "    .dataframe thead th {\n",
       "        text-align: right;\n",
       "    }\n",
       "</style>\n",
       "<table border=\"1\" class=\"dataframe\">\n",
       "  <thead>\n",
       "    <tr style=\"text-align: right;\">\n",
       "      <th></th>\n",
       "      <th>date</th>\n",
       "      <th>latitude</th>\n",
       "      <th>longitude</th>\n",
       "      <th>addressaccuracy</th>\n",
       "      <th>species_nr</th>\n",
       "      <th>trap_rank</th>\n",
       "      <th>tmax</th>\n",
       "      <th>tmin</th>\n",
       "      <th>tavg</th>\n",
       "      <th>depart</th>\n",
       "      <th>...</th>\n",
       "      <th>stnpressure</th>\n",
       "      <th>sealevel</th>\n",
       "      <th>resultspeed</th>\n",
       "      <th>resultdir</th>\n",
       "      <th>avgspeed</th>\n",
       "      <th>temp_diff</th>\n",
       "      <th>week</th>\n",
       "      <th>year</th>\n",
       "      <th>FG</th>\n",
       "      <th>TS</th>\n",
       "    </tr>\n",
       "  </thead>\n",
       "  <tbody>\n",
       "    <tr>\n",
       "      <th>0</th>\n",
       "      <td>2008-06-11</td>\n",
       "      <td>41.954690</td>\n",
       "      <td>-87.800991</td>\n",
       "      <td>9</td>\n",
       "      <td>2.0</td>\n",
       "      <td>0</td>\n",
       "      <td>86.0</td>\n",
       "      <td>63.5</td>\n",
       "      <td>74.75</td>\n",
       "      <td>7.0</td>\n",
       "      <td>...</td>\n",
       "      <td>29.310</td>\n",
       "      <td>29.98</td>\n",
       "      <td>9.15</td>\n",
       "      <td>18.0</td>\n",
       "      <td>10.2</td>\n",
       "      <td>9.75</td>\n",
       "      <td>24.0</td>\n",
       "      <td>2008.0</td>\n",
       "      <td>0.0</td>\n",
       "      <td>0.0</td>\n",
       "    </tr>\n",
       "    <tr>\n",
       "      <th>1</th>\n",
       "      <td>2008-06-11</td>\n",
       "      <td>41.954690</td>\n",
       "      <td>-87.800991</td>\n",
       "      <td>9</td>\n",
       "      <td>1.0</td>\n",
       "      <td>0</td>\n",
       "      <td>86.0</td>\n",
       "      <td>63.5</td>\n",
       "      <td>74.75</td>\n",
       "      <td>7.0</td>\n",
       "      <td>...</td>\n",
       "      <td>29.310</td>\n",
       "      <td>29.98</td>\n",
       "      <td>9.15</td>\n",
       "      <td>18.0</td>\n",
       "      <td>10.2</td>\n",
       "      <td>9.75</td>\n",
       "      <td>24.0</td>\n",
       "      <td>2008.0</td>\n",
       "      <td>0.0</td>\n",
       "      <td>0.0</td>\n",
       "    </tr>\n",
       "    <tr>\n",
       "      <th>2</th>\n",
       "      <td>2008-06-11</td>\n",
       "      <td>41.954690</td>\n",
       "      <td>-87.800991</td>\n",
       "      <td>9</td>\n",
       "      <td>3.0</td>\n",
       "      <td>0</td>\n",
       "      <td>86.0</td>\n",
       "      <td>63.5</td>\n",
       "      <td>74.75</td>\n",
       "      <td>7.0</td>\n",
       "      <td>...</td>\n",
       "      <td>29.310</td>\n",
       "      <td>29.98</td>\n",
       "      <td>9.15</td>\n",
       "      <td>18.0</td>\n",
       "      <td>10.2</td>\n",
       "      <td>9.75</td>\n",
       "      <td>24.0</td>\n",
       "      <td>2008.0</td>\n",
       "      <td>0.0</td>\n",
       "      <td>0.0</td>\n",
       "    </tr>\n",
       "    <tr>\n",
       "      <th>3</th>\n",
       "      <td>2008-06-11</td>\n",
       "      <td>41.954690</td>\n",
       "      <td>-87.800991</td>\n",
       "      <td>9</td>\n",
       "      <td>0.0</td>\n",
       "      <td>0</td>\n",
       "      <td>86.0</td>\n",
       "      <td>63.5</td>\n",
       "      <td>74.75</td>\n",
       "      <td>7.0</td>\n",
       "      <td>...</td>\n",
       "      <td>29.310</td>\n",
       "      <td>29.98</td>\n",
       "      <td>9.15</td>\n",
       "      <td>18.0</td>\n",
       "      <td>10.2</td>\n",
       "      <td>9.75</td>\n",
       "      <td>24.0</td>\n",
       "      <td>2008.0</td>\n",
       "      <td>0.0</td>\n",
       "      <td>0.0</td>\n",
       "    </tr>\n",
       "    <tr>\n",
       "      <th>4</th>\n",
       "      <td>2008-06-11</td>\n",
       "      <td>41.954690</td>\n",
       "      <td>-87.800991</td>\n",
       "      <td>9</td>\n",
       "      <td>0.0</td>\n",
       "      <td>0</td>\n",
       "      <td>86.0</td>\n",
       "      <td>63.5</td>\n",
       "      <td>74.75</td>\n",
       "      <td>7.0</td>\n",
       "      <td>...</td>\n",
       "      <td>29.310</td>\n",
       "      <td>29.98</td>\n",
       "      <td>9.15</td>\n",
       "      <td>18.0</td>\n",
       "      <td>10.2</td>\n",
       "      <td>9.75</td>\n",
       "      <td>24.0</td>\n",
       "      <td>2008.0</td>\n",
       "      <td>0.0</td>\n",
       "      <td>0.0</td>\n",
       "    </tr>\n",
       "    <tr>\n",
       "      <th>...</th>\n",
       "      <td>...</td>\n",
       "      <td>...</td>\n",
       "      <td>...</td>\n",
       "      <td>...</td>\n",
       "      <td>...</td>\n",
       "      <td>...</td>\n",
       "      <td>...</td>\n",
       "      <td>...</td>\n",
       "      <td>...</td>\n",
       "      <td>...</td>\n",
       "      <td>...</td>\n",
       "      <td>...</td>\n",
       "      <td>...</td>\n",
       "      <td>...</td>\n",
       "      <td>...</td>\n",
       "      <td>...</td>\n",
       "      <td>...</td>\n",
       "      <td>...</td>\n",
       "      <td>...</td>\n",
       "      <td>...</td>\n",
       "      <td>...</td>\n",
       "    </tr>\n",
       "    <tr>\n",
       "      <th>116288</th>\n",
       "      <td>2014-10-02</td>\n",
       "      <td>41.925652</td>\n",
       "      <td>-87.633590</td>\n",
       "      <td>8</td>\n",
       "      <td>0.0</td>\n",
       "      <td>0</td>\n",
       "      <td>73.5</td>\n",
       "      <td>64.5</td>\n",
       "      <td>69.00</td>\n",
       "      <td>10.0</td>\n",
       "      <td>...</td>\n",
       "      <td>29.065</td>\n",
       "      <td>29.78</td>\n",
       "      <td>7.20</td>\n",
       "      <td>17.0</td>\n",
       "      <td>7.9</td>\n",
       "      <td>4.00</td>\n",
       "      <td>40.0</td>\n",
       "      <td>2014.0</td>\n",
       "      <td>0.0</td>\n",
       "      <td>1.0</td>\n",
       "    </tr>\n",
       "    <tr>\n",
       "      <th>116289</th>\n",
       "      <td>2014-10-02</td>\n",
       "      <td>41.925652</td>\n",
       "      <td>-87.633590</td>\n",
       "      <td>8</td>\n",
       "      <td>0.0</td>\n",
       "      <td>0</td>\n",
       "      <td>73.5</td>\n",
       "      <td>64.5</td>\n",
       "      <td>69.00</td>\n",
       "      <td>10.0</td>\n",
       "      <td>...</td>\n",
       "      <td>29.065</td>\n",
       "      <td>29.78</td>\n",
       "      <td>7.20</td>\n",
       "      <td>17.0</td>\n",
       "      <td>7.9</td>\n",
       "      <td>4.00</td>\n",
       "      <td>40.0</td>\n",
       "      <td>2014.0</td>\n",
       "      <td>0.0</td>\n",
       "      <td>1.0</td>\n",
       "    </tr>\n",
       "    <tr>\n",
       "      <th>116290</th>\n",
       "      <td>2014-10-02</td>\n",
       "      <td>41.925652</td>\n",
       "      <td>-87.633590</td>\n",
       "      <td>8</td>\n",
       "      <td>0.0</td>\n",
       "      <td>0</td>\n",
       "      <td>73.5</td>\n",
       "      <td>64.5</td>\n",
       "      <td>69.00</td>\n",
       "      <td>10.0</td>\n",
       "      <td>...</td>\n",
       "      <td>29.065</td>\n",
       "      <td>29.78</td>\n",
       "      <td>7.20</td>\n",
       "      <td>17.0</td>\n",
       "      <td>7.9</td>\n",
       "      <td>4.00</td>\n",
       "      <td>40.0</td>\n",
       "      <td>2014.0</td>\n",
       "      <td>0.0</td>\n",
       "      <td>1.0</td>\n",
       "    </tr>\n",
       "    <tr>\n",
       "      <th>116291</th>\n",
       "      <td>2014-10-02</td>\n",
       "      <td>41.925652</td>\n",
       "      <td>-87.633590</td>\n",
       "      <td>8</td>\n",
       "      <td>0.0</td>\n",
       "      <td>0</td>\n",
       "      <td>73.5</td>\n",
       "      <td>64.5</td>\n",
       "      <td>69.00</td>\n",
       "      <td>10.0</td>\n",
       "      <td>...</td>\n",
       "      <td>29.065</td>\n",
       "      <td>29.78</td>\n",
       "      <td>7.20</td>\n",
       "      <td>17.0</td>\n",
       "      <td>7.9</td>\n",
       "      <td>4.00</td>\n",
       "      <td>40.0</td>\n",
       "      <td>2014.0</td>\n",
       "      <td>0.0</td>\n",
       "      <td>1.0</td>\n",
       "    </tr>\n",
       "    <tr>\n",
       "      <th>116292</th>\n",
       "      <td>2014-10-02</td>\n",
       "      <td>41.925652</td>\n",
       "      <td>-87.633590</td>\n",
       "      <td>8</td>\n",
       "      <td>0.0</td>\n",
       "      <td>0</td>\n",
       "      <td>73.5</td>\n",
       "      <td>64.5</td>\n",
       "      <td>69.00</td>\n",
       "      <td>10.0</td>\n",
       "      <td>...</td>\n",
       "      <td>29.065</td>\n",
       "      <td>29.78</td>\n",
       "      <td>7.20</td>\n",
       "      <td>17.0</td>\n",
       "      <td>7.9</td>\n",
       "      <td>4.00</td>\n",
       "      <td>40.0</td>\n",
       "      <td>2014.0</td>\n",
       "      <td>0.0</td>\n",
       "      <td>1.0</td>\n",
       "    </tr>\n",
       "  </tbody>\n",
       "</table>\n",
       "<p>116293 rows × 25 columns</p>\n",
       "</div>"
      ],
      "text/plain": [
       "             date   latitude  longitude  addressaccuracy  species_nr  \\\n",
       "0      2008-06-11  41.954690 -87.800991                9         2.0   \n",
       "1      2008-06-11  41.954690 -87.800991                9         1.0   \n",
       "2      2008-06-11  41.954690 -87.800991                9         3.0   \n",
       "3      2008-06-11  41.954690 -87.800991                9         0.0   \n",
       "4      2008-06-11  41.954690 -87.800991                9         0.0   \n",
       "...           ...        ...        ...              ...         ...   \n",
       "116288 2014-10-02  41.925652 -87.633590                8         0.0   \n",
       "116289 2014-10-02  41.925652 -87.633590                8         0.0   \n",
       "116290 2014-10-02  41.925652 -87.633590                8         0.0   \n",
       "116291 2014-10-02  41.925652 -87.633590                8         0.0   \n",
       "116292 2014-10-02  41.925652 -87.633590                8         0.0   \n",
       "\n",
       "        trap_rank  tmax  tmin   tavg  depart  ...  stnpressure  sealevel  \\\n",
       "0               0  86.0  63.5  74.75     7.0  ...       29.310     29.98   \n",
       "1               0  86.0  63.5  74.75     7.0  ...       29.310     29.98   \n",
       "2               0  86.0  63.5  74.75     7.0  ...       29.310     29.98   \n",
       "3               0  86.0  63.5  74.75     7.0  ...       29.310     29.98   \n",
       "4               0  86.0  63.5  74.75     7.0  ...       29.310     29.98   \n",
       "...           ...   ...   ...    ...     ...  ...          ...       ...   \n",
       "116288          0  73.5  64.5  69.00    10.0  ...       29.065     29.78   \n",
       "116289          0  73.5  64.5  69.00    10.0  ...       29.065     29.78   \n",
       "116290          0  73.5  64.5  69.00    10.0  ...       29.065     29.78   \n",
       "116291          0  73.5  64.5  69.00    10.0  ...       29.065     29.78   \n",
       "116292          0  73.5  64.5  69.00    10.0  ...       29.065     29.78   \n",
       "\n",
       "        resultspeed  resultdir  avgspeed  temp_diff  week    year   FG   TS  \n",
       "0              9.15       18.0      10.2       9.75  24.0  2008.0  0.0  0.0  \n",
       "1              9.15       18.0      10.2       9.75  24.0  2008.0  0.0  0.0  \n",
       "2              9.15       18.0      10.2       9.75  24.0  2008.0  0.0  0.0  \n",
       "3              9.15       18.0      10.2       9.75  24.0  2008.0  0.0  0.0  \n",
       "4              9.15       18.0      10.2       9.75  24.0  2008.0  0.0  0.0  \n",
       "...             ...        ...       ...        ...   ...     ...  ...  ...  \n",
       "116288         7.20       17.0       7.9       4.00  40.0  2014.0  0.0  1.0  \n",
       "116289         7.20       17.0       7.9       4.00  40.0  2014.0  0.0  1.0  \n",
       "116290         7.20       17.0       7.9       4.00  40.0  2014.0  0.0  1.0  \n",
       "116291         7.20       17.0       7.9       4.00  40.0  2014.0  0.0  1.0  \n",
       "116292         7.20       17.0       7.9       4.00  40.0  2014.0  0.0  1.0  \n",
       "\n",
       "[116293 rows x 25 columns]"
      ]
     },
     "execution_count": 5,
     "metadata": {},
     "output_type": "execute_result"
    }
   ],
   "source": [
    "test"
   ]
  },
  {
   "cell_type": "code",
   "execution_count": 6,
   "id": "279a4684",
   "metadata": {},
   "outputs": [
    {
     "data": {
      "text/plain": [
       "Index(['date', 'latitude', 'longitude', 'addressaccuracy', 'nummosquitos',\n",
       "       'wnvpresent', 'species_nr', 'trap_rank', 'tmax', 'tmin', 'tavg',\n",
       "       'depart', 'dewpoint', 'wetbulb', 'sunrise', 'sunset', 'preciptotal',\n",
       "       'stnpressure', 'sealevel', 'resultspeed', 'resultdir', 'avgspeed',\n",
       "       'temp_diff', 'week', 'year', 'FG', 'TS'],\n",
       "      dtype='object')"
      ]
     },
     "execution_count": 6,
     "metadata": {},
     "output_type": "execute_result"
    }
   ],
   "source": [
    "train.columns"
   ]
  },
  {
   "cell_type": "code",
   "execution_count": 7,
   "id": "798f69bc",
   "metadata": {},
   "outputs": [
    {
     "data": {
      "text/plain": [
       "Index(['date', 'latitude', 'longitude', 'addressaccuracy', 'species_nr',\n",
       "       'trap_rank', 'tmax', 'tmin', 'tavg', 'depart', 'dewpoint', 'wetbulb',\n",
       "       'sunrise', 'sunset', 'preciptotal', 'stnpressure', 'sealevel',\n",
       "       'resultspeed', 'resultdir', 'avgspeed', 'temp_diff', 'week', 'year',\n",
       "       'FG', 'TS'],\n",
       "      dtype='object')"
      ]
     },
     "execution_count": 7,
     "metadata": {},
     "output_type": "execute_result"
    }
   ],
   "source": [
    "test.columns"
   ]
  },
  {
   "cell_type": "code",
   "execution_count": 8,
   "id": "b7c6cacf",
   "metadata": {},
   "outputs": [
    {
     "data": {
      "text/plain": [
       "(27,)"
      ]
     },
     "execution_count": 8,
     "metadata": {},
     "output_type": "execute_result"
    }
   ],
   "source": [
    "train.columns.shape"
   ]
  },
  {
   "cell_type": "code",
   "execution_count": 9,
   "id": "93401941",
   "metadata": {},
   "outputs": [
    {
     "data": {
      "text/plain": [
       "(25,)"
      ]
     },
     "execution_count": 9,
     "metadata": {},
     "output_type": "execute_result"
    }
   ],
   "source": [
    "test.columns.shape"
   ]
  },
  {
   "cell_type": "code",
   "execution_count": 10,
   "id": "7ef0ca4b",
   "metadata": {},
   "outputs": [],
   "source": [
    "train['wnv_1'] = train['wnvpresent'].map(lambda x: 0 if x == 0 else 1)"
   ]
  },
  {
   "cell_type": "markdown",
   "id": "78c5ea14",
   "metadata": {},
   "source": [
    "# SET & SPLIT X and y"
   ]
  },
  {
   "cell_type": "code",
   "execution_count": 11,
   "id": "f5a4a1c1",
   "metadata": {},
   "outputs": [],
   "source": [
    "X = train.drop(columns=['date', 'wnvpresent', 'wnv_1'])\n",
    "y = train['wnv_1']"
   ]
  },
  {
   "cell_type": "code",
   "execution_count": 12,
   "id": "835a83a7",
   "metadata": {},
   "outputs": [],
   "source": [
    "X_train, X_test, y_train, y_test = train_test_split(X, y,\n",
    "                                                    test_size=0.2,\n",
    "                                                    stratify=y,\n",
    "                                                    random_state=42\n",
    "                                                   )"
   ]
  },
  {
   "cell_type": "markdown",
   "id": "42d4c8d2",
   "metadata": {},
   "source": [
    "# Standard Scaler, Logit --> Overfit"
   ]
  },
  {
   "cell_type": "code",
   "execution_count": 13,
   "id": "dc9bebc1",
   "metadata": {
    "scrolled": true
   },
   "outputs": [
    {
     "data": {
      "text/plain": [
       "GridSearchCV(cv=5,\n",
       "             estimator=Pipeline(steps=[('ss', StandardScaler()),\n",
       "                                       ('logit', LogisticRegressionCV())]),\n",
       "             param_grid={'logit__cv': [5, 10, 15], 'logit__max_iter': [10000],\n",
       "                         'logit__n_jobs': [-1], 'logit__random_state': [42],\n",
       "                         'ss__with_mean': [True, False],\n",
       "                         'ss__with_std': [True, False]})"
      ]
     },
     "execution_count": 13,
     "metadata": {},
     "output_type": "execute_result"
    }
   ],
   "source": [
    "logit = LogisticRegressionCV()\n",
    "ss = StandardScaler()\n",
    "\n",
    "pipe_ss_logit = Pipeline([\n",
    "    ('ss', ss),\n",
    "    ('logit', logit)\n",
    "])\n",
    "\n",
    "pipe_ss_logit_params = {\n",
    "#     'ss__with_mean': [True, False],\n",
    "#     'ss__with_std': [True, False],\n",
    "    'logit__cv': [5],                                    # 10, 15\n",
    "    'logit__n_jobs': [-1],\n",
    "    'logit__random_state': [42],\n",
    "    'logit__max_iter': [10_000],\n",
    "#     'logit__l1_ratios': [i for i in np.linspace(0, 1, 5)]\n",
    "}\n",
    "\n",
    "gs_ss_logit = GridSearchCV(\n",
    "    estimator=pipe_ss_logit,\n",
    "    param_grid=pipe_ss_logit_params,\n",
    "    cv=5\n",
    ")\n",
    "\n",
    "gs_ss_logit.fit(X_train, y_train)"
   ]
  },
  {
   "cell_type": "code",
   "execution_count": 14,
   "id": "efccc4a3",
   "metadata": {
    "collapsed": true
   },
   "outputs": [
    {
     "data": {
      "text/plain": [
       "{'memory': None,\n",
       " 'steps': [('ss', StandardScaler()), ('logit', LogisticRegressionCV())],\n",
       " 'verbose': False,\n",
       " 'ss': StandardScaler(),\n",
       " 'logit': LogisticRegressionCV(),\n",
       " 'ss__copy': True,\n",
       " 'ss__with_mean': True,\n",
       " 'ss__with_std': True,\n",
       " 'logit__Cs': 10,\n",
       " 'logit__class_weight': None,\n",
       " 'logit__cv': None,\n",
       " 'logit__dual': False,\n",
       " 'logit__fit_intercept': True,\n",
       " 'logit__intercept_scaling': 1.0,\n",
       " 'logit__l1_ratios': None,\n",
       " 'logit__max_iter': 100,\n",
       " 'logit__multi_class': 'auto',\n",
       " 'logit__n_jobs': None,\n",
       " 'logit__penalty': 'l2',\n",
       " 'logit__random_state': None,\n",
       " 'logit__refit': True,\n",
       " 'logit__scoring': None,\n",
       " 'logit__solver': 'lbfgs',\n",
       " 'logit__tol': 0.0001,\n",
       " 'logit__verbose': 0}"
      ]
     },
     "execution_count": 14,
     "metadata": {},
     "output_type": "execute_result"
    }
   ],
   "source": [
    "pipe_ss_logit.get_params()"
   ]
  },
  {
   "cell_type": "code",
   "execution_count": 15,
   "id": "1b06aa51",
   "metadata": {},
   "outputs": [
    {
     "data": {
      "text/plain": [
       "{'logit__cv': 5,\n",
       " 'logit__max_iter': 10000,\n",
       " 'logit__n_jobs': -1,\n",
       " 'logit__random_state': 42,\n",
       " 'ss__with_mean': True,\n",
       " 'ss__with_std': True}"
      ]
     },
     "execution_count": 15,
     "metadata": {},
     "output_type": "execute_result"
    }
   ],
   "source": [
    "gs_ss_logit.best_params_"
   ]
  },
  {
   "cell_type": "code",
   "execution_count": 16,
   "id": "3183f4d0",
   "metadata": {},
   "outputs": [
    {
     "data": {
      "text/plain": [
       "array([[0.99156313, 0.00843687],\n",
       "       [0.9860738 , 0.0139262 ],\n",
       "       [0.98763412, 0.01236588],\n",
       "       ...,\n",
       "       [0.98529588, 0.01470412],\n",
       "       [0.9932748 , 0.0067252 ],\n",
       "       [0.98959913, 0.01040087]])"
      ]
     },
     "execution_count": 16,
     "metadata": {},
     "output_type": "execute_result"
    }
   ],
   "source": [
    "gs_ss_logit.predict_proba(X_test)"
   ]
  },
  {
   "cell_type": "code",
   "execution_count": 18,
   "id": "c2a1ebdf",
   "metadata": {},
   "outputs": [],
   "source": [
    "y_preds = gs_ss_logit.predict(X_test)"
   ]
  },
  {
   "cell_type": "code",
   "execution_count": 19,
   "id": "3367ff31",
   "metadata": {},
   "outputs": [
    {
     "data": {
      "text/plain": [
       "1.0"
      ]
     },
     "execution_count": 19,
     "metadata": {},
     "output_type": "execute_result"
    }
   ],
   "source": [
    "gs_ss_logit.score(X_test, y_test)"
   ]
  },
  {
   "cell_type": "code",
   "execution_count": 20,
   "id": "0e7780e4",
   "metadata": {},
   "outputs": [
    {
     "name": "stdout",
     "output_type": "stream",
     "text": [
      "Accuracy (Test Score): 100.0%\n"
     ]
    }
   ],
   "source": [
    "tn, fp, fn, tp = confusion_matrix(y_test, y_preds).ravel()\n",
    "print(f'Accuracy (Test Score): {round((tp+tn)/(tn+fp+fn+tp),3)*100}%')\n"
   ]
  },
  {
   "cell_type": "code",
   "execution_count": 21,
   "id": "0bb88e8c",
   "metadata": {},
   "outputs": [
    {
     "data": {
      "text/plain": [
       "0.9996939556235654"
      ]
     },
     "execution_count": 21,
     "metadata": {},
     "output_type": "execute_result"
    }
   ],
   "source": [
    "gs_ss_logit.best_score_\n"
   ]
  },
  {
   "cell_type": "code",
   "execution_count": 22,
   "id": "93f7581b",
   "metadata": {},
   "outputs": [
    {
     "data": {
      "text/plain": [
       "0.9996939556235654"
      ]
     },
     "execution_count": 22,
     "metadata": {},
     "output_type": "execute_result"
    }
   ],
   "source": [
    "gs_ss_logit.score(X_train, y_train)"
   ]
  },
  {
   "cell_type": "code",
   "execution_count": 23,
   "id": "8de89a99",
   "metadata": {},
   "outputs": [
    {
     "data": {
      "text/plain": [
       "1.0"
      ]
     },
     "execution_count": 23,
     "metadata": {},
     "output_type": "execute_result"
    }
   ],
   "source": [
    "gs_ss_logit.score(X_test, y_test)"
   ]
  },
  {
   "cell_type": "code",
   "execution_count": 24,
   "id": "e7d3558d",
   "metadata": {},
   "outputs": [
    {
     "data": {
      "image/png": "[encoded data removed]",
      "text/plain": [
       "<Figure size 432x288 with 2 Axes>"
      ]
     },
     "metadata": {
      "needs_background": "light"
     },
     "output_type": "display_data"
    }
   ],
   "source": [
    "plot_confusion_matrix(gs_ss_logit, \n",
    "                          X_test, y_test, \n",
    "                          cmap='Blues', \n",
    "                          values_format='d',\n",
    "                          display_labels=['No WNV', 'WNV']\n",
    "                         );"
   ]
  },
  {
   "cell_type": "markdown",
   "id": "04e0c6b8",
   "metadata": {},
   "source": [
    "# SS, LR"
   ]
  },
  {
   "cell_type": "code",
   "execution_count": 25,
   "id": "9a401411",
   "metadata": {},
   "outputs": [
    {
     "data": {
      "text/plain": [
       "GridSearchCV(cv=5,\n",
       "             estimator=Pipeline(steps=[('ss', StandardScaler()),\n",
       "                                       ('lr', LinearRegression())]),\n",
       "             param_grid={'lr__n_jobs': [-1], 'ss__with_mean': [True, False],\n",
       "                         'ss__with_std': [True, False]})"
      ]
     },
     "execution_count": 25,
     "metadata": {},
     "output_type": "execute_result"
    }
   ],
   "source": [
    "ss = StandardScaler()\n",
    "lr = LinearRegression()\n",
    "\n",
    "pipe_ss_lr = Pipeline([\n",
    "    ('ss', ss),\n",
    "    ('lr', lr),\n",
    "    \n",
    "])\n",
    "\n",
    "pipe_ss_lr_params = {\n",
    "    'ss__with_mean': [True, False],\n",
    "    'ss__with_std': [True, False],\n",
    "    'lr__n_jobs': [-1],\n",
    "}\n",
    "\n",
    "gs_ss_lr = GridSearchCV(\n",
    "    estimator=pipe_ss_lr,\n",
    "    param_grid=pipe_ss_lr_params,\n",
    "    cv=5\n",
    ")\n",
    "\n",
    "gs_ss_lr.fit(X_train, y_train)"
   ]
  },
  {
   "cell_type": "code",
   "execution_count": 26,
   "id": "913d449f",
   "metadata": {},
   "outputs": [
    {
     "data": {
      "text/plain": [
       "0.8509761607158228"
      ]
     },
     "execution_count": 26,
     "metadata": {},
     "output_type": "execute_result"
    }
   ],
   "source": [
    "cross_val_score(gs_ss_lr,\n",
    "                X_train,\n",
    "                y_train,\n",
    "                cv=10,\n",
    "               ).mean()"
   ]
  },
  {
   "cell_type": "code",
   "execution_count": 27,
   "id": "7fca5778",
   "metadata": {},
   "outputs": [
    {
     "data": {
      "text/plain": [
       "0.8573937731691139"
      ]
     },
     "execution_count": 27,
     "metadata": {},
     "output_type": "execute_result"
    }
   ],
   "source": [
    "gs_ss_lr.best_score_"
   ]
  },
  {
   "cell_type": "code",
   "execution_count": 28,
   "id": "c9d8182d",
   "metadata": {},
   "outputs": [
    {
     "data": {
      "text/plain": [
       "0.8624097145843705"
      ]
     },
     "execution_count": 28,
     "metadata": {},
     "output_type": "execute_result"
    }
   ],
   "source": [
    "gs_ss_lr.score(X_train, y_train)"
   ]
  },
  {
   "cell_type": "code",
   "execution_count": 29,
   "id": "e69c11b1",
   "metadata": {},
   "outputs": [
    {
     "data": {
      "text/plain": [
       "0.8389105056032097"
      ]
     },
     "execution_count": 29,
     "metadata": {},
     "output_type": "execute_result"
    }
   ],
   "source": [
    "gs_ss_lr.score(X_test, y_test)"
   ]
  },
  {
   "cell_type": "code",
   "execution_count": 30,
   "id": "80648c9a",
   "metadata": {},
   "outputs": [
    {
     "data": {
      "text/plain": [
       "{'memory': None,\n",
       " 'steps': [('ss', StandardScaler()), ('lr', LinearRegression())],\n",
       " 'verbose': False,\n",
       " 'ss': StandardScaler(),\n",
       " 'lr': LinearRegression(),\n",
       " 'ss__copy': True,\n",
       " 'ss__with_mean': True,\n",
       " 'ss__with_std': True,\n",
       " 'lr__copy_X': True,\n",
       " 'lr__fit_intercept': True,\n",
       " 'lr__n_jobs': None,\n",
       " 'lr__normalize': False,\n",
       " 'lr__positive': False}"
      ]
     },
     "execution_count": 30,
     "metadata": {},
     "output_type": "execute_result"
    }
   ],
   "source": [
    "pipe_ss_lr.get_params()"
   ]
  },
  {
   "cell_type": "markdown",
   "id": "8814b48c",
   "metadata": {},
   "source": [
    "# SS, PCA, Logit 1"
   ]
  },
  {
   "cell_type": "code",
   "execution_count": 31,
   "id": "bcf2940a",
   "metadata": {},
   "outputs": [
    {
     "name": "stderr",
     "output_type": "stream",
     "text": [
      "/Users/edwardnathanael/opt/anaconda3/envs/dsi24/lib/python3.8/site-packages/sklearn/linear_model/_sag.py:328: ConvergenceWarning: The max_iter was reached which means the coef_ did not converge\n",
      "  warnings.warn(\"The max_iter was reached which means \"\n",
      "/Users/edwardnathanael/opt/anaconda3/envs/dsi24/lib/python3.8/site-packages/sklearn/linear_model/_sag.py:328: ConvergenceWarning: The max_iter was reached which means the coef_ did not converge\n",
      "  warnings.warn(\"The max_iter was reached which means \"\n"
     ]
    },
    {
     "data": {
      "text/plain": [
       "GridSearchCV(cv=5,\n",
       "             estimator=Pipeline(steps=[('ss', StandardScaler()), ('pca', PCA()),\n",
       "                                       ('logit', LogisticRegressionCV())]),\n",
       "             param_grid={'logit__cv': [5, 10], 'logit__max_iter': [5000],\n",
       "                         'logit__n_jobs': [-1], 'logit__random_state': [42],\n",
       "                         'logit__scoring': ['roc_auc'],\n",
       "                         'logit__solver': ['lbfgs', 'saga'],\n",
       "                         'pca__n_components': [3, 5], 'pca__random_state': [42],\n",
       "                         'ss__with_mean': [True, False],\n",
       "                         'ss__with_std': [True, False]})"
      ]
     },
     "execution_count": 31,
     "metadata": {},
     "output_type": "execute_result"
    }
   ],
   "source": [
    "ss = StandardScaler()\n",
    "pca = PCA()\n",
    "logit = LogisticRegressionCV()\n",
    "\n",
    "pipe_ss_pca_logit = Pipeline([\n",
    "    ('ss', ss),\n",
    "    ('pca', pca),\n",
    "    ('logit', logit)\n",
    "])\n",
    "\n",
    "pipe_ss_pca_logit_params = {\n",
    "#     'ss__with_mean': [True, False],\n",
    "#     'ss__with_std': [True, False],\n",
    "    'pca__n_components': [3, 5],                   \n",
    "    'pca__random_state': [42],\n",
    "    'logit__cv': [5],                              # 10\n",
    "    'logit__random_state': [42],\n",
    "    'logit__max_iter': [5_000],\n",
    "    'logit__n_jobs': [-1],\n",
    "    'logit__solver': ['saga'],                     # lbfgs\n",
    "    'logit__scoring': ['roc_auc']\n",
    "}\n",
    "\n",
    "gs_ss_pca_logit = GridSearchCV(\n",
    "    estimator=pipe_ss_pca_logit,\n",
    "    param_grid=pipe_ss_pca_logit_params,\n",
    "    cv=5\n",
    ")\n",
    "\n",
    "gs_ss_pca_logit.fit(X_train, y_train)"
   ]
  },
  {
   "cell_type": "code",
   "execution_count": 32,
   "id": "061c0e0f",
   "metadata": {
    "collapsed": true
   },
   "outputs": [
    {
     "data": {
      "text/plain": [
       "{'memory': None,\n",
       " 'steps': [('ss', StandardScaler()),\n",
       "  ('pca', PCA()),\n",
       "  ('logit', LogisticRegressionCV())],\n",
       " 'verbose': False,\n",
       " 'ss': StandardScaler(),\n",
       " 'pca': PCA(),\n",
       " 'logit': LogisticRegressionCV(),\n",
       " 'ss__copy': True,\n",
       " 'ss__with_mean': True,\n",
       " 'ss__with_std': True,\n",
       " 'pca__copy': True,\n",
       " 'pca__iterated_power': 'auto',\n",
       " 'pca__n_components': None,\n",
       " 'pca__random_state': None,\n",
       " 'pca__svd_solver': 'auto',\n",
       " 'pca__tol': 0.0,\n",
       " 'pca__whiten': False,\n",
       " 'logit__Cs': 10,\n",
       " 'logit__class_weight': None,\n",
       " 'logit__cv': None,\n",
       " 'logit__dual': False,\n",
       " 'logit__fit_intercept': True,\n",
       " 'logit__intercept_scaling': 1.0,\n",
       " 'logit__l1_ratios': None,\n",
       " 'logit__max_iter': 100,\n",
       " 'logit__multi_class': 'auto',\n",
       " 'logit__n_jobs': None,\n",
       " 'logit__penalty': 'l2',\n",
       " 'logit__random_state': None,\n",
       " 'logit__refit': True,\n",
       " 'logit__scoring': None,\n",
       " 'logit__solver': 'lbfgs',\n",
       " 'logit__tol': 0.0001,\n",
       " 'logit__verbose': 0}"
      ]
     },
     "execution_count": 32,
     "metadata": {},
     "output_type": "execute_result"
    }
   ],
   "source": [
    "pipe_ss_pca_logit.get_params()"
   ]
  },
  {
   "cell_type": "code",
   "execution_count": 33,
   "id": "9acf00d3",
   "metadata": {},
   "outputs": [
    {
     "data": {
      "text/plain": [
       "Pipeline(steps=[('ss', StandardScaler()),\n",
       "                ('pca', PCA(n_components=5, random_state=42)),\n",
       "                ('logit',\n",
       "                 LogisticRegressionCV(cv=5, max_iter=5000, n_jobs=-1,\n",
       "                                      random_state=42, scoring='roc_auc',\n",
       "                                      solver='saga'))])"
      ]
     },
     "execution_count": 33,
     "metadata": {},
     "output_type": "execute_result"
    }
   ],
   "source": [
    "gs_ss_pca_logit.best_estimator_"
   ]
  },
  {
   "cell_type": "code",
   "execution_count": 34,
   "id": "8c896d8d",
   "metadata": {},
   "outputs": [
    {
     "data": {
      "text/plain": [
       "0.8487461988241933"
      ]
     },
     "execution_count": 34,
     "metadata": {},
     "output_type": "execute_result"
    }
   ],
   "source": [
    "gs_ss_pca_logit.score(X_train, y_train)"
   ]
  },
  {
   "cell_type": "code",
   "execution_count": 35,
   "id": "13cb3778",
   "metadata": {},
   "outputs": [
    {
     "data": {
      "text/plain": [
       "0.8204368541374374"
      ]
     },
     "execution_count": 35,
     "metadata": {},
     "output_type": "execute_result"
    }
   ],
   "source": [
    "gs_ss_pca_logit.score(X_test, y_test)"
   ]
  },
  {
   "cell_type": "markdown",
   "id": "5ffb21a8",
   "metadata": {},
   "source": [
    "# SS, PCA, Logit 2"
   ]
  },
  {
   "cell_type": "code",
   "execution_count": 36,
   "id": "d385d5ff",
   "metadata": {},
   "outputs": [
    {
     "data": {
      "text/plain": [
       "GridSearchCV(cv=5,\n",
       "             estimator=Pipeline(steps=[('ss', StandardScaler()), ('pca', PCA()),\n",
       "                                       ('logit', LogisticRegressionCV())]),\n",
       "             param_grid={'logit__cv': [10, 15], 'logit__max_iter': [10000],\n",
       "                         'logit__n_jobs': [-1], 'logit__random_state': [42],\n",
       "                         'logit__solver': ['lbfgs', 'saga'],\n",
       "                         'pca__n_components': [5, 10],\n",
       "                         'pca__random_state': [42]},\n",
       "             scoring='roc_auc')"
      ]
     },
     "execution_count": 36,
     "metadata": {},
     "output_type": "execute_result"
    }
   ],
   "source": [
    "ss = StandardScaler()\n",
    "pca = PCA()\n",
    "logit = LogisticRegressionCV()\n",
    "\n",
    "pipe_ss_pca_logit_2 = Pipeline([\n",
    "    ('ss', ss),\n",
    "    ('pca', pca),\n",
    "    ('logit', logit)\n",
    "])\n",
    "\n",
    "pipe_ss_pca_logit_params_2 = {\n",
    "#     'ss__with_mean': [True, False],\n",
    "#     'ss__with_std': [True, False],\n",
    "    'pca__n_components': [10],                  # 5\n",
    "    'pca__random_state': [42],\n",
    "    'logit__cv': [10],                          # 15\n",
    "    'logit__random_state': [42],\n",
    "    'logit__max_iter': [10_000],\n",
    "    'logit__n_jobs': [-1],\n",
    "    'logit__solver': ['saga'],                  # lbfgs\n",
    "#     'logit__scoring': ['roc_auc']\n",
    "}\n",
    "\n",
    "gs_ss_pca_logit_2 = GridSearchCV(\n",
    "    estimator=pipe_ss_pca_logit_2,\n",
    "    param_grid=pipe_ss_pca_logit_params_2,\n",
    "    scoring='roc_auc',\n",
    "    cv=5\n",
    ")\n",
    "\n",
    "gs_ss_pca_logit_2.fit(X_train, y_train)"
   ]
  },
  {
   "cell_type": "code",
   "execution_count": 37,
   "id": "b73da809",
   "metadata": {},
   "outputs": [
    {
     "data": {
      "text/plain": [
       "Pipeline(steps=[('ss', StandardScaler()),\n",
       "                ('pca', PCA(n_components=10, random_state=42)),\n",
       "                ('logit',\n",
       "                 LogisticRegressionCV(cv=10, max_iter=10000, n_jobs=-1,\n",
       "                                      random_state=42))])"
      ]
     },
     "execution_count": 37,
     "metadata": {},
     "output_type": "execute_result"
    }
   ],
   "source": [
    "gs_ss_pca_logit_2.best_estimator_"
   ]
  },
  {
   "cell_type": "code",
   "execution_count": 38,
   "id": "d74177e2",
   "metadata": {},
   "outputs": [
    {
     "data": {
      "text/plain": [
       "0.9990628269144063"
      ]
     },
     "execution_count": 38,
     "metadata": {},
     "output_type": "execute_result"
    }
   ],
   "source": [
    "gs_ss_pca_logit_2.score(X_train, y_train)"
   ]
  },
  {
   "cell_type": "code",
   "execution_count": 39,
   "id": "89072c4e",
   "metadata": {},
   "outputs": [
    {
     "data": {
      "text/plain": [
       "0.9997222479400055"
      ]
     },
     "execution_count": 39,
     "metadata": {},
     "output_type": "execute_result"
    }
   ],
   "source": [
    "gs_ss_pca_logit_2.score(X_test, y_test)"
   ]
  },
  {
   "cell_type": "code",
   "execution_count": 40,
   "id": "c91439ef",
   "metadata": {},
   "outputs": [],
   "source": [
    "y_preds = gs_ss_pca_logit_2.predict(X_test)"
   ]
  },
  {
   "cell_type": "code",
   "execution_count": 41,
   "id": "6526a88e",
   "metadata": {},
   "outputs": [
    {
     "name": "stdout",
     "output_type": "stream",
     "text": [
      "Accuracy (Test Score): 99.6%\n",
      "Misclassification:                         0.4%\n",
      "Sensitivity / True Positive Rate / Recall: 93.4%\n",
      "Specificity / True Negative Rate:          99.9%\n",
      "Precision / Positive Predictive Value:     98.8%\n",
      "Best Parameters:                           {'logit__cv': 10, 'logit__max_iter': 10000, 'logit__n_jobs': -1, 'logit__random_state': 42, 'logit__solver': 'lbfgs', 'pca__n_components': 10, 'pca__random_state': 42}\n"
     ]
    }
   ],
   "source": [
    "tn, fp, fn, tp = confusion_matrix(y_test, y_preds).ravel()\n",
    "print(f'Accuracy (Test Score): {round((tp+tn)/(tn+fp+fn+tp),3)*100}%')\n",
    "print(f'Misclassification:                         {round(1-(tp+tn)/(tn+fp+fn+tp),3)*100}%')\n",
    "print(f'Sensitivity / True Positive Rate / Recall: {round((tp)/(tp+fn),3)*100}%')\n",
    "print(f'Specificity / True Negative Rate:          {round(tn/(tn+fp),3)*100}%')\n",
    "print(f'Precision / Positive Predictive Value:     {round(tp/(tp+fp),3)*100}%')\n",
    "print(f'Best Parameters:                           {gs_ss_pca_logit_2.best_params_}')"
   ]
  },
  {
   "cell_type": "raw",
   "id": "96f58a3c",
   "metadata": {},
   "source": [
    "def model(gs_vectorizer_model):\n",
    "    gs_vectorizer_model.fit(X_train, y_train)\n",
    "    model_preds = gs_vectorizer_model.predict(X_test)\n",
    "    tn, fp, fn, tp = confusion_matrix(y_test, model_preds).ravel()\n",
    "    print(f'Best Score:                                {round(gs_vectorizer_model.best_score_, 3)*100}%')\n",
    "    print(f'Train Score:                               {round(gs_vectorizer_model.score(X_train, y_train), 3)*100}%')\n",
    "    print(f'Accuracy (Test Score):                     {round((tp+tn)/(tn+fp+fn+tp),3)*100}%')\n",
    "    print(f'Misclassification:                         {round(1-(tp+tn)/(tn+fp+fn+tp),3)*100}%')\n",
    "    print(f'Sensitivity / True Positive Rate / Recall: {round((tp)/(tp+fn),3)*100}%')\n",
    "    print(f'Specificity / True Negative Rate:          {round(tn/(tn+fp),3)*100}%')\n",
    "    print(f'Precision / Positive Predictive Value:     {round(tp/(tp+fp),3)*100}%')\n",
    "    print(f'Best Parameters:                           {gs_vectorizer_model.best_params_}')\n",
    "    plot_confusion_matrix(gs_vectorizer_model, \n",
    "                          X_test, y_test, \n",
    "                          cmap='Blues', \n",
    "                          values_format='d',\n",
    "                          display_labels=['r/investing', 'r/personalfinance']\n",
    "                         );"
   ]
  },
  {
   "cell_type": "markdown",
   "id": "0d800782",
   "metadata": {},
   "source": [
    "# SS, PCA, ADABoost (Decision Trees)"
   ]
  },
  {
   "cell_type": "code",
   "execution_count": 42,
   "id": "75f4ef2d",
   "metadata": {},
   "outputs": [
    {
     "data": {
      "text/plain": [
       "GridSearchCV(cv=5,\n",
       "             estimator=Pipeline(steps=[('ss', StandardScaler()), ('pca', PCA()),\n",
       "                                       ('ada',\n",
       "                                        AdaBoostClassifier(base_estimator=DecisionTreeClassifier()))]),\n",
       "             param_grid={'ada__base_estimator__max_depth': [5, 10, 15],\n",
       "                         'ada__base_estimator__max_features': [0.8, 1.0],\n",
       "                         'ada__n_estimators': [50, 100],\n",
       "                         'ada__random_state': [42], 'pca__n_components': [10],\n",
       "                         'pca__random_state': [42]})"
      ]
     },
     "execution_count": 42,
     "metadata": {},
     "output_type": "execute_result"
    }
   ],
   "source": [
    "ss = StandardScaler()\n",
    "pca = PCA()\n",
    "ada = AdaBoostClassifier(base_estimator=DecisionTreeClassifier())\n",
    "\n",
    "pipe_ss_pca_ada = Pipeline([\n",
    "    ('ss', ss),\n",
    "    ('pca', pca),\n",
    "    ('ada', ada)\n",
    "])\n",
    "\n",
    "pipe_ss_pca_ada_params = {\n",
    "    'pca__n_components': [10],\n",
    "    'pca__random_state': [42],\n",
    "    'ada__n_estimators': [100],                     # 50\n",
    "    'ada__base_estimator__max_depth': [5],          # 10, 15\n",
    "    'ada__base_estimator__max_features': [0.8],     # 1.0\n",
    "    'ada__random_state': [42]\n",
    "}\n",
    "\n",
    "gs_ss_pca_ada = GridSearchCV(\n",
    "    estimator=pipe_ss_pca_ada,\n",
    "    param_grid=pipe_ss_pca_ada_params,\n",
    "    cv=5,\n",
    ")\n",
    "\n",
    "gs_ss_pca_ada.fit(X_train, y_train)"
   ]
  },
  {
   "cell_type": "code",
   "execution_count": 43,
   "id": "39270319",
   "metadata": {},
   "outputs": [
    {
     "data": {
      "text/plain": [
       "Pipeline(steps=[('ss', StandardScaler()),\n",
       "                ('pca', PCA(n_components=10, random_state=42)),\n",
       "                ('ada',\n",
       "                 AdaBoostClassifier(base_estimator=DecisionTreeClassifier(max_depth=5,\n",
       "                                                                          max_features=0.8),\n",
       "                                    n_estimators=100, random_state=42))])"
      ]
     },
     "execution_count": 43,
     "metadata": {},
     "output_type": "execute_result"
    }
   ],
   "source": [
    "gs_ss_pca_ada.best_estimator_"
   ]
  },
  {
   "cell_type": "code",
   "execution_count": 44,
   "id": "88fda142",
   "metadata": {
    "collapsed": true
   },
   "outputs": [
    {
     "data": {
      "text/plain": [
       "{'memory': None,\n",
       " 'steps': [('ss', StandardScaler()),\n",
       "  ('pca', PCA()),\n",
       "  ('ada', AdaBoostClassifier(base_estimator=DecisionTreeClassifier()))],\n",
       " 'verbose': False,\n",
       " 'ss': StandardScaler(),\n",
       " 'pca': PCA(),\n",
       " 'ada': AdaBoostClassifier(base_estimator=DecisionTreeClassifier()),\n",
       " 'ss__copy': True,\n",
       " 'ss__with_mean': True,\n",
       " 'ss__with_std': True,\n",
       " 'pca__copy': True,\n",
       " 'pca__iterated_power': 'auto',\n",
       " 'pca__n_components': None,\n",
       " 'pca__random_state': None,\n",
       " 'pca__svd_solver': 'auto',\n",
       " 'pca__tol': 0.0,\n",
       " 'pca__whiten': False,\n",
       " 'ada__algorithm': 'SAMME.R',\n",
       " 'ada__base_estimator__ccp_alpha': 0.0,\n",
       " 'ada__base_estimator__class_weight': None,\n",
       " 'ada__base_estimator__criterion': 'gini',\n",
       " 'ada__base_estimator__max_depth': None,\n",
       " 'ada__base_estimator__max_features': None,\n",
       " 'ada__base_estimator__max_leaf_nodes': None,\n",
       " 'ada__base_estimator__min_impurity_decrease': 0.0,\n",
       " 'ada__base_estimator__min_impurity_split': None,\n",
       " 'ada__base_estimator__min_samples_leaf': 1,\n",
       " 'ada__base_estimator__min_samples_split': 2,\n",
       " 'ada__base_estimator__min_weight_fraction_leaf': 0.0,\n",
       " 'ada__base_estimator__random_state': None,\n",
       " 'ada__base_estimator__splitter': 'best',\n",
       " 'ada__base_estimator': DecisionTreeClassifier(),\n",
       " 'ada__learning_rate': 1.0,\n",
       " 'ada__n_estimators': 50,\n",
       " 'ada__random_state': None}"
      ]
     },
     "execution_count": 44,
     "metadata": {},
     "output_type": "execute_result"
    }
   ],
   "source": [
    "pipe_ss_pca_ada.get_params()"
   ]
  },
  {
   "cell_type": "code",
   "execution_count": 45,
   "id": "bd3d9eb0",
   "metadata": {},
   "outputs": [
    {
     "data": {
      "text/plain": [
       "1.0"
      ]
     },
     "execution_count": 45,
     "metadata": {},
     "output_type": "execute_result"
    }
   ],
   "source": [
    "gs_ss_pca_ada.score(X_train, y_train)"
   ]
  },
  {
   "cell_type": "code",
   "execution_count": 46,
   "id": "1b242b69",
   "metadata": {},
   "outputs": [
    {
     "data": {
      "text/plain": [
       "0.9993880048959608"
      ]
     },
     "execution_count": 46,
     "metadata": {},
     "output_type": "execute_result"
    }
   ],
   "source": [
    "gs_ss_pca_ada.score(X_test, y_test)"
   ]
  },
  {
   "cell_type": "code",
   "execution_count": 47,
   "id": "4f82e5e2",
   "metadata": {},
   "outputs": [
    {
     "name": "stdout",
     "output_type": "stream",
     "text": [
      "Accuracy (Test Score): 99.9%\n",
      "Misclassification:                         0.1%\n",
      "Sensitivity / True Positive Rate / Recall: 100.0%\n",
      "Specificity / True Negative Rate:          99.9%\n",
      "Precision / Positive Predictive Value:     98.9%\n",
      "Best Parameters:                           {'ada__base_estimator__max_depth': 5, 'ada__base_estimator__max_features': 0.8, 'ada__n_estimators': 100, 'ada__random_state': 42, 'pca__n_components': 10, 'pca__random_state': 42}\n"
     ]
    }
   ],
   "source": [
    "y_preds = gs_ss_pca_ada.predict(X_test)\n",
    "tn, fp, fn, tp = confusion_matrix(y_test, y_preds).ravel()\n",
    "print(f'Accuracy (Test Score): {round((tp+tn)/(tn+fp+fn+tp),3)*100}%')\n",
    "print(f'Misclassification:                         {round(1-(tp+tn)/(tn+fp+fn+tp),3)*100}%')\n",
    "print(f'Sensitivity / True Positive Rate / Recall: {round((tp)/(tp+fn),3)*100}%')\n",
    "print(f'Specificity / True Negative Rate:          {round(tn/(tn+fp),3)*100}%')\n",
    "print(f'Precision / Positive Predictive Value:     {round(tp/(tp+fp),3)*100}%')\n",
    "print(f'Best Parameters:                           {gs_ss_pca_ada.best_params_}')"
   ]
  },
  {
   "cell_type": "code",
   "execution_count": 48,
   "id": "e8a43687",
   "metadata": {},
   "outputs": [
    {
     "data": {
      "image/png": "[encoded data removed]",
      "text/plain": [
       "<Figure size 432x288 with 2 Axes>"
      ]
     },
     "metadata": {
      "needs_background": "light"
     },
     "output_type": "display_data"
    }
   ],
   "source": [
    "plot_confusion_matrix(gs_ss_pca_ada, \n",
    "                          X_test, y_test, \n",
    "                          cmap='Blues', \n",
    "                          values_format='d',\n",
    "                          display_labels=['No WNV', 'WNV']\n",
    "                         );"
   ]
  },
  {
   "cell_type": "markdown",
   "id": "45962190",
   "metadata": {},
   "source": [
    "# SS, PCA, ADABoost(Random Trees)"
   ]
  },
  {
   "cell_type": "code",
   "execution_count": 49,
   "id": "87b28949",
   "metadata": {},
   "outputs": [
    {
     "data": {
      "text/plain": [
       "(8169, 28)"
      ]
     },
     "execution_count": 49,
     "metadata": {},
     "output_type": "execute_result"
    }
   ],
   "source": [
    "train.shape"
   ]
  },
  {
   "cell_type": "code",
   "execution_count": 50,
   "id": "05e96a82",
   "metadata": {},
   "outputs": [
    {
     "name": "stdout",
     "output_type": "stream",
     "text": [
      "3990.1357538700104\n"
     ]
    }
   ],
   "source": [
    "duration = time.time()\n",
    "ss = StandardScaler()\n",
    "pca = PCA()\n",
    "ada = AdaBoostClassifier(base_estimator=RandomForestClassifier())\n",
    "\n",
    "pipe_ss_pca_ada_rf = Pipeline([\n",
    "    ('ss', ss),\n",
    "    ('pca', pca),\n",
    "    ('ada', ada)\n",
    "])\n",
    "\n",
    "pipe_ss_pca_ada_rf_params = {\n",
    "    'pca__n_components': [20],                            # 23\n",
    "    'pca__random_state': [42],\n",
    "    'ada__n_estimators': [80],                            # 100, 120\n",
    "    'ada__base_estimator__max_depth': [7],                # 3, 5\n",
    "    'ada__base_estimator__max_features': [0.2],           # 0.05, 0.1\n",
    "    'ada__random_state': [42],\n",
    "    'ada__base_estimator__n_jobs': [-1],\n",
    "    'ada__base_estimator__n_estimators': [200]            # 400, 600\n",
    "}\n",
    "\n",
    "gs_ss_pca_ada_rf = GridSearchCV(\n",
    "    estimator=pipe_ss_pca_ada_rf,\n",
    "    param_grid=pipe_ss_pca_ada_rf_params,\n",
    "    cv=5,\n",
    ")\n",
    "\n",
    "gs_ss_pca_ada_rf.fit(X_train, y_train)\n",
    "print(time.time() - duration)"
   ]
  },
  {
   "cell_type": "code",
   "execution_count": 51,
   "id": "fa844fe2",
   "metadata": {
    "scrolled": true
   },
   "outputs": [
    {
     "data": {
      "text/plain": [
       "{'memory': None,\n",
       " 'steps': [('ss', StandardScaler()),\n",
       "  ('pca', PCA()),\n",
       "  ('ada', AdaBoostClassifier(base_estimator=RandomForestClassifier()))],\n",
       " 'verbose': False,\n",
       " 'ss': StandardScaler(),\n",
       " 'pca': PCA(),\n",
       " 'ada': AdaBoostClassifier(base_estimator=RandomForestClassifier()),\n",
       " 'ss__copy': True,\n",
       " 'ss__with_mean': True,\n",
       " 'ss__with_std': True,\n",
       " 'pca__copy': True,\n",
       " 'pca__iterated_power': 'auto',\n",
       " 'pca__n_components': None,\n",
       " 'pca__random_state': None,\n",
       " 'pca__svd_solver': 'auto',\n",
       " 'pca__tol': 0.0,\n",
       " 'pca__whiten': False,\n",
       " 'ada__algorithm': 'SAMME.R',\n",
       " 'ada__base_estimator__bootstrap': True,\n",
       " 'ada__base_estimator__ccp_alpha': 0.0,\n",
       " 'ada__base_estimator__class_weight': None,\n",
       " 'ada__base_estimator__criterion': 'gini',\n",
       " 'ada__base_estimator__max_depth': None,\n",
       " 'ada__base_estimator__max_features': 'auto',\n",
       " 'ada__base_estimator__max_leaf_nodes': None,\n",
       " 'ada__base_estimator__max_samples': None,\n",
       " 'ada__base_estimator__min_impurity_decrease': 0.0,\n",
       " 'ada__base_estimator__min_impurity_split': None,\n",
       " 'ada__base_estimator__min_samples_leaf': 1,\n",
       " 'ada__base_estimator__min_samples_split': 2,\n",
       " 'ada__base_estimator__min_weight_fraction_leaf': 0.0,\n",
       " 'ada__base_estimator__n_estimators': 100,\n",
       " 'ada__base_estimator__n_jobs': None,\n",
       " 'ada__base_estimator__oob_score': False,\n",
       " 'ada__base_estimator__random_state': None,\n",
       " 'ada__base_estimator__verbose': 0,\n",
       " 'ada__base_estimator__warm_start': False,\n",
       " 'ada__base_estimator': RandomForestClassifier(),\n",
       " 'ada__learning_rate': 1.0,\n",
       " 'ada__n_estimators': 50,\n",
       " 'ada__random_state': None}"
      ]
     },
     "execution_count": 51,
     "metadata": {},
     "output_type": "execute_result"
    }
   ],
   "source": [
    "pipe_ss_pca_ada_rf.get_params()"
   ]
  },
  {
   "cell_type": "code",
   "execution_count": 52,
   "id": "c26a62e4",
   "metadata": {},
   "outputs": [
    {
     "data": {
      "text/plain": [
       "Pipeline(steps=[('ss', StandardScaler()),\n",
       "                ('pca', PCA(n_components=20, random_state=42)),\n",
       "                ('ada',\n",
       "                 AdaBoostClassifier(base_estimator=RandomForestClassifier(max_depth=7,\n",
       "                                                                          max_features=0.2,\n",
       "                                                                          n_estimators=200,\n",
       "                                                                          n_jobs=-1),\n",
       "                                    n_estimators=80, random_state=42))])"
      ]
     },
     "execution_count": 52,
     "metadata": {},
     "output_type": "execute_result"
    }
   ],
   "source": [
    "gs_ss_pca_ada_rf.best_estimator_"
   ]
  },
  {
   "cell_type": "code",
   "execution_count": 53,
   "id": "86c121b0",
   "metadata": {},
   "outputs": [
    {
     "data": {
      "text/plain": [
       "1.0"
      ]
     },
     "execution_count": 53,
     "metadata": {},
     "output_type": "execute_result"
    }
   ],
   "source": [
    "gs_ss_pca_ada_rf.score(X_train, y_train)"
   ]
  },
  {
   "cell_type": "code",
   "execution_count": 54,
   "id": "442eac0f",
   "metadata": {},
   "outputs": [
    {
     "data": {
      "text/plain": [
       "0.9993880048959608"
      ]
     },
     "execution_count": 54,
     "metadata": {},
     "output_type": "execute_result"
    }
   ],
   "source": [
    "gs_ss_pca_ada_rf.score(X_test, y_test)"
   ]
  },
  {
   "cell_type": "code",
   "execution_count": 55,
   "id": "d28fc115",
   "metadata": {},
   "outputs": [
    {
     "name": "stdout",
     "output_type": "stream",
     "text": [
      "Accuracy (Test Score): 99.9%\n",
      "Misclassification:                         0.1%\n",
      "Sensitivity / True Positive Rate / Recall: 98.9%\n",
      "Specificity / True Negative Rate:          100.0%\n",
      "Precision / Positive Predictive Value:     100.0%\n",
      "Best Parameters:                           {'ada__base_estimator__max_depth': 7, 'ada__base_estimator__max_features': 0.2, 'ada__base_estimator__n_estimators': 200, 'ada__base_estimator__n_jobs': -1, 'ada__n_estimators': 80, 'ada__random_state': 42, 'pca__n_components': 20, 'pca__random_state': 42}\n"
     ]
    }
   ],
   "source": [
    "y_preds = gs_ss_pca_ada_rf.predict(X_test)\n",
    "tn, fp, fn, tp = confusion_matrix(y_test, y_preds).ravel()\n",
    "print(f'Accuracy (Test Score): {round((tp+tn)/(tn+fp+fn+tp),3)*100}%')\n",
    "print(f'Misclassification:                         {round(1-(tp+tn)/(tn+fp+fn+tp),3)*100}%')\n",
    "print(f'Sensitivity / True Positive Rate / Recall: {round((tp)/(tp+fn),3)*100}%')\n",
    "print(f'Specificity / True Negative Rate:          {round(tn/(tn+fp),3)*100}%')\n",
    "print(f'Precision / Positive Predictive Value:     {round(tp/(tp+fp),3)*100}%')\n",
    "print(f'Best Parameters:                           {gs_ss_pca_ada_rf.best_params_}')"
   ]
  },
  {
   "cell_type": "code",
   "execution_count": 56,
   "id": "a458d654",
   "metadata": {},
   "outputs": [
    {
     "data": {
      "text/plain": [
       "3990.713559627533"
      ]
     },
     "execution_count": 56,
     "metadata": {},
     "output_type": "execute_result"
    }
   ],
   "source": [
    "time.time() - duration"
   ]
  },
  {
   "cell_type": "code",
   "execution_count": 57,
   "id": "9ae22915",
   "metadata": {},
   "outputs": [
    {
     "data": {
      "image/png": "[encoded data removed]",
      "text/plain": [
       "<Figure size 432x288 with 2 Axes>"
      ]
     },
     "metadata": {
      "needs_background": "light"
     },
     "output_type": "display_data"
    }
   ],
   "source": [
    "plot_confusion_matrix(gs_ss_pca_ada_rf, \n",
    "                      X_test, y_test, \n",
    "                      cmap='Blues', \n",
    "                      values_format='d',\n",
    "                      display_labels=['No WNV', 'WNV']\n",
    "                     );"
   ]
  },
  {
   "cell_type": "markdown",
   "id": "99ee92c5",
   "metadata": {},
   "source": [
    "# SS, PCA, SMOTE, ADABoost (Decision Trees)"
   ]
  },
  {
   "cell_type": "code",
   "execution_count": 109,
   "id": "efe00d18",
   "metadata": {},
   "outputs": [
    {
     "name": "stdout",
     "output_type": "stream",
     "text": [
      "259.84563398361206\n"
     ]
    }
   ],
   "source": [
    "ss = StandardScaler()\n",
    "pca = PCA()\n",
    "smote = SMOTE()\n",
    "ada = AdaBoostClassifier(base_estimator=DecisionTreeClassifier())\n",
    "duration = time.time()\n",
    "\n",
    "pipe_ss_pca_smote_ada_dt = Pipeline([\n",
    "    ('ss', ss),\n",
    "    ('pca', pca),\n",
    "    ('smote', smote),\n",
    "    ('ada', ada)\n",
    "])\n",
    "\n",
    "pipe_ss_pca_smote_ada_dt_params = {\n",
    "    'pca__n_components': [17, 20, 23],\n",
    "    'pca__random_state': [42],\n",
    "    'pca__svd_solver': ['full'],\n",
    "    'smote__sampling_strategy': ['minority'],\n",
    "    'smote__random_state':[42],\n",
    "    'smote__n_jobs': [-1],\n",
    "    'smote__k_neighbors': [5, 7], # 3\n",
    "    'ada__base_estimator__max_depth': [25, 50], # 8, 10, 12\n",
    "    'ada__base_estimator__max_features': [0.25, 0.5, 0.75],\n",
    "    'ada__base_estimator__random_state': [42],\n",
    "    'ada__n_estimators': [50, 100],\n",
    "    'ada__random_state': [42]\n",
    "}\n",
    "\n",
    "gs_ss_pca_smote_ada_dt = GridSearchCV(\n",
    "    estimator=pipe_ss_pca_smote_ada_dt,\n",
    "    param_grid=pipe_ss_pca_smote_ada_dt_params,\n",
    "    cv=5\n",
    ")\n",
    "\n",
    "gs_ss_pca_smote_ada_dt.fit(X_train, y_train)\n",
    "print(time.time() - duration)"
   ]
  },
  {
   "cell_type": "code",
   "execution_count": 104,
   "id": "3e274a73",
   "metadata": {
    "collapsed": true
   },
   "outputs": [
    {
     "data": {
      "text/plain": [
       "{'memory': None,\n",
       " 'steps': [('ss', StandardScaler()),\n",
       "  ('pca', PCA()),\n",
       "  ('smote', SMOTE()),\n",
       "  ('ada', AdaBoostClassifier(base_estimator=DecisionTreeClassifier()))],\n",
       " 'verbose': False,\n",
       " 'ss': StandardScaler(),\n",
       " 'pca': PCA(),\n",
       " 'smote': SMOTE(),\n",
       " 'ada': AdaBoostClassifier(base_estimator=DecisionTreeClassifier()),\n",
       " 'ss__copy': True,\n",
       " 'ss__with_mean': True,\n",
       " 'ss__with_std': True,\n",
       " 'pca__copy': True,\n",
       " 'pca__iterated_power': 'auto',\n",
       " 'pca__n_components': None,\n",
       " 'pca__random_state': None,\n",
       " 'pca__svd_solver': 'auto',\n",
       " 'pca__tol': 0.0,\n",
       " 'pca__whiten': False,\n",
       " 'smote__k_neighbors': 5,\n",
       " 'smote__n_jobs': None,\n",
       " 'smote__random_state': None,\n",
       " 'smote__sampling_strategy': 'auto',\n",
       " 'ada__algorithm': 'SAMME.R',\n",
       " 'ada__base_estimator__ccp_alpha': 0.0,\n",
       " 'ada__base_estimator__class_weight': None,\n",
       " 'ada__base_estimator__criterion': 'gini',\n",
       " 'ada__base_estimator__max_depth': None,\n",
       " 'ada__base_estimator__max_features': None,\n",
       " 'ada__base_estimator__max_leaf_nodes': None,\n",
       " 'ada__base_estimator__min_impurity_decrease': 0.0,\n",
       " 'ada__base_estimator__min_impurity_split': None,\n",
       " 'ada__base_estimator__min_samples_leaf': 1,\n",
       " 'ada__base_estimator__min_samples_split': 2,\n",
       " 'ada__base_estimator__min_weight_fraction_leaf': 0.0,\n",
       " 'ada__base_estimator__random_state': None,\n",
       " 'ada__base_estimator__splitter': 'best',\n",
       " 'ada__base_estimator': DecisionTreeClassifier(),\n",
       " 'ada__learning_rate': 1.0,\n",
       " 'ada__n_estimators': 50,\n",
       " 'ada__random_state': None}"
      ]
     },
     "execution_count": 104,
     "metadata": {},
     "output_type": "execute_result"
    }
   ],
   "source": [
    "pipe_ss_pca_smote_ada_dt.get_params()"
   ]
  },
  {
   "cell_type": "code",
   "execution_count": 110,
   "id": "bb07ece1",
   "metadata": {},
   "outputs": [
    {
     "data": {
      "text/plain": [
       "{'ada__base_estimator__max_depth': 8,\n",
       " 'ada__base_estimator__max_features': 0.25,\n",
       " 'ada__base_estimator__random_state': 42,\n",
       " 'ada__n_estimators': 50,\n",
       " 'ada__random_state': 42,\n",
       " 'pca__n_components': 20,\n",
       " 'pca__random_state': 42,\n",
       " 'pca__svd_solver': 'full',\n",
       " 'smote__k_neighbors': 5,\n",
       " 'smote__n_jobs': -1,\n",
       " 'smote__random_state': 42,\n",
       " 'smote__sampling_strategy': 'minority'}"
      ]
     },
     "execution_count": 110,
     "metadata": {},
     "output_type": "execute_result"
    }
   ],
   "source": [
    "gs_ss_pca_smote_ada_dt.best_params_"
   ]
  },
  {
   "cell_type": "code",
   "execution_count": 111,
   "id": "cfc41a81",
   "metadata": {},
   "outputs": [
    {
     "data": {
      "text/plain": [
       "1.0"
      ]
     },
     "execution_count": 111,
     "metadata": {},
     "output_type": "execute_result"
    }
   ],
   "source": [
    "gs_ss_pca_smote_ada_dt.score(X_train, y_train)"
   ]
  },
  {
   "cell_type": "code",
   "execution_count": 112,
   "id": "1bcdb968",
   "metadata": {},
   "outputs": [
    {
     "name": "stdout",
     "output_type": "stream",
     "text": [
      "Accuracy (Test Score): 99.9%\n"
     ]
    }
   ],
   "source": [
    "tn, fp, fn, tp = confusion_matrix(y_test, y_preds).ravel()\n",
    "print(f'Accuracy (Test Score): {round((tp+tn)/(tn+fp+fn+tp),3)*100}%')\n"
   ]
  },
  {
   "cell_type": "code",
   "execution_count": 113,
   "id": "4d877358",
   "metadata": {},
   "outputs": [
    {
     "data": {
      "image/png": "[encoded data removed]",
      "text/plain": [
       "<Figure size 432x288 with 2 Axes>"
      ]
     },
     "metadata": {
      "needs_background": "light"
     },
     "output_type": "display_data"
    }
   ],
   "source": [
    "plot_confusion_matrix(gs_ss_pca_smote_ada_dt, \n",
    "                          X_test, y_test, \n",
    "                          cmap='Blues', \n",
    "                          values_format='d',\n",
    "                          display_labels=['No WNV', 'WNV']\n",
    "                         );"
   ]
  },
  {
   "cell_type": "code",
   "execution_count": 117,
   "id": "9662f75b",
   "metadata": {},
   "outputs": [
    {
     "data": {
      "text/plain": [
       "1.0"
      ]
     },
     "execution_count": 117,
     "metadata": {},
     "output_type": "execute_result"
    }
   ],
   "source": [
    "metrics.roc_auc_score(y_test, gs_ss_pca_smote_ada_dt.predict_proba(X_test)[:,1])"
   ]
  },
  {
   "cell_type": "code",
   "execution_count": 115,
   "id": "279d948a",
   "metadata": {},
   "outputs": [],
   "source": [
    "# y_train_pred_prob = grid.predict_proba(X_train)[:,1]\n",
    "# y_valid_pred_prob = grid.predict_proba(X_valid)[:,1]\n",
    "# train_auc = roc_auc_score(y_train, y_train_pred_prob)\n",
    "# valid_auc = roc_auc_score(y_valid, y_valid_pred_prob)"
   ]
  }
 ],
 "metadata": {
  "kernelspec": {
   "display_name": "Python 3",
   "language": "python",
   "name": "python3"
  },
  "language_info": {
   "codemirror_mode": {
    "name": "ipython",
    "version": 3
   },
   "file_extension": ".py",
   "mimetype": "text/x-python",
   "name": "python",
   "nbconvert_exporter": "python",
   "pygments_lexer": "ipython3",
   "version": "3.8.8"
  },
  "toc": {
   "base_numbering": 1,
   "nav_menu": {},
   "number_sections": true,
   "sideBar": true,
   "skip_h1_title": false,
   "title_cell": "Table of Contents",
   "title_sidebar": "Contents",
   "toc_cell": false,
   "toc_position": {
    "height": "calc(100% - 180px)",
    "left": "10px",
    "top": "150px",
    "width": "311.111px"
   },
   "toc_section_display": true,
   "toc_window_display": true
  }
 },
 "nbformat": 4,
 "nbformat_minor": 5
}
